{
 "cells": [
  {
   "cell_type": "markdown",
   "id": "d5560bc8-607d-416e-b789-7965110a4ade",
   "metadata": {},
   "source": [
    "# Run a suite of models and apply them to test data sets and whole tiles\n",
    "\n",
    "## Setup"
   ]
  },
  {
   "cell_type": "code",
   "execution_count": 1,
   "id": "b5ef073a-e4b5-480e-8332-0cc63d2631b4",
   "metadata": {},
   "outputs": [
    {
     "name": "stderr",
     "output_type": "stream",
     "text": [
      "Using TensorFlow backend.\n"
     ]
    }
   ],
   "source": [
    "%load_ext autoreload\n",
    "%autoreload 2\n",
    "\n",
    "import os\n",
    "import glob\n",
    "import run_models\n",
    "\n",
    "train = run_models.TrainingData()"
   ]
  },
  {
   "cell_type": "code",
   "execution_count": 2,
   "id": "b0a86f72-71f1-44ce-8674-1e1d633d9313",
   "metadata": {},
   "outputs": [],
   "source": [
    "\"\"\"\n",
    "Paths to the feature (LiDAR), response (manually labelled buildings) and boundary files, and to\n",
    "the directory where the output will be written\n",
    "\"\"\"\n",
    "\n",
    "base_path = '/data/gdcsdata/HawaiiMapping/ProjectFiles/Rachel/'\n",
    "boundary_path = base_path+'labeled_region_boundaries/'\n",
    "feature_path = base_path+'labeled_region_features/'\n",
    "response_path = base_path+'labeled_region_buildings/'\n",
    "\n",
    "paths = {'boundary': boundary_path, 'responses': response_path, 'features': feature_path}\n",
    "\n",
    "bfgn_output_path = base_path+'bfgn_output_buildings/'\n",
    "\n"
   ]
  },
  {
   "cell_type": "code",
   "execution_count": 3,
   "id": "30d6dc6d-4f02-4efd-8fe9-e4e511ca0168",
   "metadata": {},
   "outputs": [
    {
     "name": "stdout",
     "output_type": "stream",
     "text": [
      "HBLower contains 7650467 pixels and 920 features\n",
      "HOVE1 contains 1568750 pixels and 151 features\n",
      "CC1 contains 1562500 pixels and 160 features\n",
      "MIL1 contains 1562500 pixels and 102 features\n",
      "Hamakua contains 1570008 pixels and 64 features\n",
      "KParadise contains 6827625 pixels and 339 features\n",
      "CCTrees contains 1571260 pixels and 1 features\n",
      "WAI1 contains 1177692 pixels and 167 features\n",
      "KK1 contains 1181043 pixels and 80 features\n",
      "Waimea contains 487602 pixels and 168 features\n",
      "KonaMauka contains 7818572 pixels and 1 features\n",
      "Total number of features = 2153\n",
      "Total number of pixels = 32978019\n"
     ]
    }
   ],
   "source": [
    "\"\"\"\n",
    "Count the number of pixels and buildings in the training data set\n",
    "\"\"\"\n",
    "\n",
    "training_sets = {'HBMain': 'HBMain',\\\n",
    "                           'HBLower': 'HBLower',\\\n",
    "                           'HOVE1': 'tile031_3125_11250',\\\n",
    "                           'CC1': 'tile024_10000_3125',\\\n",
    "                           'MIL1': 'tile030_10000_5625',\\\n",
    "                           'Hamakua': 'tile016_0_4375',\\\n",
    "                           'KParadise': 'KParadise',\\\n",
    "                           'CCTrees': 'tile024_10000_4375',\\\n",
    "                           'WAI1': 'Waikoloa1',\\\n",
    "                           'KK1': 'Kukio1',\\\n",
    "                           'Waimea': 'Waimea',\\\n",
    "                           'KonaMauka': 'KonaMauka'}\n",
    "\n",
    "train.count_buildings(feature_path, response_path, training_sets)"
   ]
  },
  {
   "cell_type": "code",
   "execution_count": 4,
   "id": "af8082fa-e46b-41e0-a827-0d7a97d2dde2",
   "metadata": {},
   "outputs": [
    {
     "name": "stdout",
     "output_type": "stream",
     "text": [
      "HBTest contains 4709250 pixels and 416 features\n",
      "HOVE2 contains 1562500 pixels and 194 features\n",
      "MIL2 contains 765044 pixels and 52 features\n",
      "CC2 contains 1562500 pixels and 270 features\n",
      "SKona_A contains 603411 pixels and 59 features\n",
      "SKona_B contains 605453 pixels and 59 features\n",
      "Hamakua_A contains 4814024 pixels and 130 features\n",
      "Puako contains 1838160 pixels and 144 features\n",
      "Total number of features = 1324\n",
      "Total number of pixels = 16460342\n"
     ]
    }
   ],
   "source": [
    "test_sets = {'HBTest': 'HBTest',\\\n",
    "                       'HOVE2': 'tile031_2500_11250',\\\n",
    "                       'MIL2': 'tile030_9375_5625',\\\n",
    "                       'CC2': 'tile024_10000_2500',\\\n",
    "                       'SKona_A': 'SKona_TestA',\\\n",
    "                       'SKona_B': 'SKona_TestB',\\\n",
    "                       'Hamakua_A': 'Hamakua_testA',\\\n",
    "                       'Puako': 'Puako'}\n",
    "\n",
    "train.count_buildings(feature_path, response_path, test_sets)"
   ]
  },
  {
   "cell_type": "markdown",
   "id": "68c34fca-2145-47fe-b0a6-264f774274ae",
   "metadata": {},
   "source": [
    "## Run the model suite\n",
    "\n",
    "The test datasets and model parameters vary like this:\n",
    "\n",
    "Data types:\n",
    "- 1m DSM\n",
    "- 1m eigenvalues, all 4 bands\n",
    "- 1m hillshade\n",
    "\n",
    "Training data:\n",
    "- all available labelled training regions\n",
    "\n",
    "Window sizes:\n",
    "- 16, 32, 64 pixels"
   ]
  },
  {
   "cell_type": "code",
   "execution_count": 5,
   "id": "43b2bedb-5b8c-4fea-a19c-d1fa71e72fe6",
   "metadata": {},
   "outputs": [
    {
     "name": "stdout",
     "output_type": "stream",
     "text": [
      "There are 9 parameter combinations\n"
     ]
    }
   ],
   "source": [
    "\n",
    "data_types = ['hires_surface', 'eigen4', 'hillshade']\n",
    "training_set = []\n",
    "for _ in range(len(data_types)):\n",
    "    training_set.append(['HBLower', 'HOVE1', 'MIL1', 'CC1', 'Hamakua', 'KParadise', 'CCTrees', 'WAI1', 'KK1',\\\n",
    "                        'Waimea', 'KonaMauka'])\n",
    "\n",
    "training_data = train.create_training_lists(paths, training_sets, training_set)\n",
    "\n",
    "permutations = dict.fromkeys(['boundary_files', 'feature_files', 'response_files', 'window_radius',\\\n",
    "                              'loss_window_radius']) \n",
    "\n",
    "#This gives 1 set of training regions, 3 window sizes (w/ appropriate loss_window_radius)\n",
    "parameter_combos = [(training_data[0][0], training_data[0][1], training_data[0][2], 16, 8),\\\n",
    "                    (training_data[0][0], training_data[0][1], training_data[0][2], 32, 16),\\\n",
    "                    (training_data[0][0], training_data[0][1], training_data[0][2], 64, 32)]\n",
    "\n",
    "#This adds the different data types - DSM, eigenvals, hillshade\n",
    "for kind in data_types[1:]:\n",
    "    for data in parameter_combos[:3]:\n",
    "        new = [[x[0].replace('hires_surface', kind)] for x in data[1]]\n",
    "    parameter_combos.extend([(training_data[0][0], new, training_data[0][2], 16, 8),\\\n",
    "                    (training_data[0][0], new, training_data[0][2], 32, 16),\\\n",
    "                    (training_data[0][0], new, training_data[0][2], 64, 32)])\n",
    "\n",
    "print(f\"There are {len(parameter_combos)} parameter combinations\")\n",
    "            \n",
    "iteration_data = {} \n",
    "iteration_data['permutations'] = permutations\n",
    "iteration_data['parameter_combos'] = parameter_combos\n",
    "iteration_data['nicknames'] = ['hires_surface_16', 'eigen4_16', 'hillshade_16', 'hires_surface_32', 'eigen4_32',\\\n",
    "                               'hillshade_32', 'hires_surface_64', 'eigen4_64', 'hillshade_64']\n",
    "iteration_data['out_path'] = bfgn_output_path+'model_runs/'\n",
    "iteration_data['data_types'] = data_types\n",
    "\n",
    "model_runs = run_models.Loops(iteration_data, settings_file='settings_buildings.yaml')"
   ]
  },
  {
   "cell_type": "code",
   "execution_count": 6,
   "id": "5570ad51-6b7d-4ff3-a0ee-ea4a0863968e",
   "metadata": {},
   "outputs": [
    {
     "name": "stdout",
     "output_type": "stream",
     "text": [
      "skipping\n"
     ]
    }
   ],
   "source": [
    "%%script echo skipping\n",
    "%%time\n",
    "model_runs.loop_over_configs(use_existing=True, rebuild_data=True, fit_model=True)"
   ]
  },
  {
   "cell_type": "markdown",
   "id": "c54f2d59-a495-4e72-9e69-fd40d9a38335",
   "metadata": {},
   "source": [
    "## Apply the models to the test regions and the whole (trimmed) tiles"
   ]
  },
  {
   "cell_type": "code",
   "execution_count": null,
   "id": "54312ef4-52e2-4ca1-a26e-082dcf5a597e",
   "metadata": {},
   "outputs": [
    {
     "name": "stdout",
     "output_type": "stream",
     "text": [
      "Working on /data/gdcsdata/HawaiiMapping/ProjectFiles/Rachel/labeled_region_features/HBTest_hires_surface.tif, writing /data/gdcsdata/HawaiiMapping/ProjectFiles/Rachel/bfgn_output_buildings/model_runs/combo_0/applied_model_HBTest\n"
     ]
    },
    {
     "name": "stderr",
     "output_type": "stream",
     "text": [
      "100%|█████████████████████████████████████████| 122/122 [00:11<00:00, 10.94it/s]\n"
     ]
    },
    {
     "name": "stdout",
     "output_type": "stream",
     "text": [
      "/data/gdcsdata/HawaiiMapping/ProjectFiles/Rachel/bfgn_output_buildings/model_runs/combo_0/applied_model_HBTest.tif\n",
      "Working on /data/gdcsdata/HawaiiMapping/ProjectFiles/Rachel/labeled_region_features/tile031_2500_11250_hires_surface.tif, writing /data/gdcsdata/HawaiiMapping/ProjectFiles/Rachel/bfgn_output_buildings/model_runs/combo_0/applied_model_HOVE2\n"
     ]
    },
    {
     "name": "stderr",
     "output_type": "stream",
     "text": [
      "100%|███████████████████████████████████████████| 79/79 [00:03<00:00, 20.17it/s]\n"
     ]
    },
    {
     "name": "stdout",
     "output_type": "stream",
     "text": [
      "/data/gdcsdata/HawaiiMapping/ProjectFiles/Rachel/bfgn_output_buildings/model_runs/combo_0/applied_model_HOVE2.tif\n",
      "Working on /data/gdcsdata/HawaiiMapping/ProjectFiles/Rachel/labeled_region_features/tile030_9375_5625_hires_surface.tif, writing /data/gdcsdata/HawaiiMapping/ProjectFiles/Rachel/bfgn_output_buildings/model_runs/combo_0/applied_model_MIL2\n"
     ]
    },
    {
     "name": "stderr",
     "output_type": "stream",
     "text": [
      "100%|███████████████████████████████████████████| 78/78 [00:02<00:00, 26.12it/s]\n"
     ]
    },
    {
     "name": "stdout",
     "output_type": "stream",
     "text": [
      "/data/gdcsdata/HawaiiMapping/ProjectFiles/Rachel/bfgn_output_buildings/model_runs/combo_0/applied_model_MIL2.tif\n",
      "Working on /data/gdcsdata/HawaiiMapping/ProjectFiles/Rachel/labeled_region_features/tile024_10000_2500_hires_surface.tif, writing /data/gdcsdata/HawaiiMapping/ProjectFiles/Rachel/bfgn_output_buildings/model_runs/combo_0/applied_model_CC2\n"
     ]
    },
    {
     "name": "stderr",
     "output_type": "stream",
     "text": [
      "100%|███████████████████████████████████████████| 79/79 [00:04<00:00, 17.00it/s]\n"
     ]
    },
    {
     "name": "stdout",
     "output_type": "stream",
     "text": [
      "/data/gdcsdata/HawaiiMapping/ProjectFiles/Rachel/bfgn_output_buildings/model_runs/combo_0/applied_model_CC2.tif\n",
      "Working on /data/gdcsdata/HawaiiMapping/ProjectFiles/Rachel/labeled_region_features/SKona_TestA_hires_surface.tif, writing /data/gdcsdata/HawaiiMapping/ProjectFiles/Rachel/bfgn_output_buildings/model_runs/combo_0/applied_model_SKona_A\n"
     ]
    },
    {
     "name": "stderr",
     "output_type": "stream",
     "text": [
      "100%|███████████████████████████████████████████| 37/37 [00:02<00:00, 14.45it/s]\n"
     ]
    },
    {
     "name": "stdout",
     "output_type": "stream",
     "text": [
      "/data/gdcsdata/HawaiiMapping/ProjectFiles/Rachel/bfgn_output_buildings/model_runs/combo_0/applied_model_SKona_A.tif\n",
      "Working on /data/gdcsdata/HawaiiMapping/ProjectFiles/Rachel/labeled_region_features/SKona_TestB_hires_surface.tif, writing /data/gdcsdata/HawaiiMapping/ProjectFiles/Rachel/bfgn_output_buildings/model_runs/combo_0/applied_model_SKona_B\n"
     ]
    },
    {
     "name": "stderr",
     "output_type": "stream",
     "text": [
      "100%|███████████████████████████████████████████| 38/38 [00:03<00:00, 12.13it/s]\n"
     ]
    },
    {
     "name": "stdout",
     "output_type": "stream",
     "text": [
      "/data/gdcsdata/HawaiiMapping/ProjectFiles/Rachel/bfgn_output_buildings/model_runs/combo_0/applied_model_SKona_B.tif\n",
      "Working on /data/gdcsdata/HawaiiMapping/ProjectFiles/Rachel/labeled_region_features/Hamakua_testA_hires_surface.tif, writing /data/gdcsdata/HawaiiMapping/ProjectFiles/Rachel/bfgn_output_buildings/model_runs/combo_0/applied_model_Hamakua_A\n"
     ]
    },
    {
     "name": "stderr",
     "output_type": "stream",
     "text": [
      "100%|███████████████████████████████████████████| 68/68 [00:08<00:00,  8.09it/s]\n"
     ]
    },
    {
     "name": "stdout",
     "output_type": "stream",
     "text": [
      "/data/gdcsdata/HawaiiMapping/ProjectFiles/Rachel/bfgn_output_buildings/model_runs/combo_0/applied_model_Hamakua_A.tif\n",
      "Working on /data/gdcsdata/HawaiiMapping/ProjectFiles/Rachel/labeled_region_features/Puako_hires_surface.tif, writing /data/gdcsdata/HawaiiMapping/ProjectFiles/Rachel/bfgn_output_buildings/model_runs/combo_0/applied_model_Puako\n"
     ]
    },
    {
     "name": "stderr",
     "output_type": "stream",
     "text": [
      "100%|███████████████████████████████████████████| 65/65 [00:05<00:00, 11.96it/s]\n"
     ]
    },
    {
     "name": "stdout",
     "output_type": "stream",
     "text": [
      "/data/gdcsdata/HawaiiMapping/ProjectFiles/Rachel/bfgn_output_buildings/model_runs/combo_0/applied_model_Puako.tif\n",
      "Working on /data/gdcsdata/HawaiiMapping/ProjectFiles/Rachel/labeled_region_features/HBTest_hires_surface.tif, writing /data/gdcsdata/HawaiiMapping/ProjectFiles/Rachel/bfgn_output_buildings/model_runs/combo_1/applied_model_HBTest\n"
     ]
    },
    {
     "name": "stderr",
     "output_type": "stream",
     "text": [
      "100%|███████████████████████████████████████████| 61/61 [00:08<00:00,  6.84it/s]\n"
     ]
    },
    {
     "name": "stdout",
     "output_type": "stream",
     "text": [
      "/data/gdcsdata/HawaiiMapping/ProjectFiles/Rachel/bfgn_output_buildings/model_runs/combo_1/applied_model_HBTest.tif\n",
      "Working on /data/gdcsdata/HawaiiMapping/ProjectFiles/Rachel/labeled_region_features/tile031_2500_11250_hires_surface.tif, writing /data/gdcsdata/HawaiiMapping/ProjectFiles/Rachel/bfgn_output_buildings/model_runs/combo_1/applied_model_HOVE2\n"
     ]
    },
    {
     "name": "stderr",
     "output_type": "stream",
     "text": [
      "100%|███████████████████████████████████████████| 40/40 [00:04<00:00,  9.32it/s]\n"
     ]
    },
    {
     "name": "stdout",
     "output_type": "stream",
     "text": [
      "/data/gdcsdata/HawaiiMapping/ProjectFiles/Rachel/bfgn_output_buildings/model_runs/combo_1/applied_model_HOVE2.tif\n",
      "Working on /data/gdcsdata/HawaiiMapping/ProjectFiles/Rachel/labeled_region_features/tile030_9375_5625_hires_surface.tif, writing /data/gdcsdata/HawaiiMapping/ProjectFiles/Rachel/bfgn_output_buildings/model_runs/combo_1/applied_model_MIL2\n"
     ]
    },
    {
     "name": "stderr",
     "output_type": "stream",
     "text": [
      "100%|███████████████████████████████████████████| 39/39 [00:04<00:00,  8.91it/s]\n"
     ]
    },
    {
     "name": "stdout",
     "output_type": "stream",
     "text": [
      "/data/gdcsdata/HawaiiMapping/ProjectFiles/Rachel/bfgn_output_buildings/model_runs/combo_1/applied_model_MIL2.tif\n",
      "Working on /data/gdcsdata/HawaiiMapping/ProjectFiles/Rachel/labeled_region_features/tile024_10000_2500_hires_surface.tif, writing /data/gdcsdata/HawaiiMapping/ProjectFiles/Rachel/bfgn_output_buildings/model_runs/combo_1/applied_model_CC2\n"
     ]
    },
    {
     "name": "stderr",
     "output_type": "stream",
     "text": [
      "100%|███████████████████████████████████████████| 40/40 [00:04<00:00,  8.51it/s]\n"
     ]
    },
    {
     "name": "stdout",
     "output_type": "stream",
     "text": [
      "/data/gdcsdata/HawaiiMapping/ProjectFiles/Rachel/bfgn_output_buildings/model_runs/combo_1/applied_model_CC2.tif\n",
      "Working on /data/gdcsdata/HawaiiMapping/ProjectFiles/Rachel/labeled_region_features/SKona_TestA_hires_surface.tif, writing /data/gdcsdata/HawaiiMapping/ProjectFiles/Rachel/bfgn_output_buildings/model_runs/combo_1/applied_model_SKona_A\n"
     ]
    },
    {
     "name": "stderr",
     "output_type": "stream",
     "text": [
      "100%|███████████████████████████████████████████| 19/19 [00:03<00:00,  4.98it/s]\n"
     ]
    },
    {
     "name": "stdout",
     "output_type": "stream",
     "text": [
      "/data/gdcsdata/HawaiiMapping/ProjectFiles/Rachel/bfgn_output_buildings/model_runs/combo_1/applied_model_SKona_A.tif\n",
      "Working on /data/gdcsdata/HawaiiMapping/ProjectFiles/Rachel/labeled_region_features/SKona_TestB_hires_surface.tif, writing /data/gdcsdata/HawaiiMapping/ProjectFiles/Rachel/bfgn_output_buildings/model_runs/combo_1/applied_model_SKona_B\n"
     ]
    },
    {
     "name": "stderr",
     "output_type": "stream",
     "text": [
      "100%|███████████████████████████████████████████| 19/19 [00:05<00:00,  3.65it/s]\n"
     ]
    },
    {
     "name": "stdout",
     "output_type": "stream",
     "text": [
      "/data/gdcsdata/HawaiiMapping/ProjectFiles/Rachel/bfgn_output_buildings/model_runs/combo_1/applied_model_SKona_B.tif\n",
      "Working on /data/gdcsdata/HawaiiMapping/ProjectFiles/Rachel/labeled_region_features/Hamakua_testA_hires_surface.tif, writing /data/gdcsdata/HawaiiMapping/ProjectFiles/Rachel/bfgn_output_buildings/model_runs/combo_1/applied_model_Hamakua_A\n"
     ]
    },
    {
     "name": "stderr",
     "output_type": "stream",
     "text": [
      "100%|███████████████████████████████████████████| 34/34 [00:07<00:00,  4.26it/s]\n"
     ]
    },
    {
     "name": "stdout",
     "output_type": "stream",
     "text": [
      "/data/gdcsdata/HawaiiMapping/ProjectFiles/Rachel/bfgn_output_buildings/model_runs/combo_1/applied_model_Hamakua_A.tif\n",
      "Working on /data/gdcsdata/HawaiiMapping/ProjectFiles/Rachel/labeled_region_features/Puako_hires_surface.tif, writing /data/gdcsdata/HawaiiMapping/ProjectFiles/Rachel/bfgn_output_buildings/model_runs/combo_1/applied_model_Puako\n"
     ]
    },
    {
     "name": "stderr",
     "output_type": "stream",
     "text": [
      "100%|███████████████████████████████████████████| 33/33 [00:06<00:00,  5.10it/s]\n"
     ]
    },
    {
     "name": "stdout",
     "output_type": "stream",
     "text": [
      "/data/gdcsdata/HawaiiMapping/ProjectFiles/Rachel/bfgn_output_buildings/model_runs/combo_1/applied_model_Puako.tif\n",
      "Working on /data/gdcsdata/HawaiiMapping/ProjectFiles/Rachel/labeled_region_features/HBTest_hires_surface.tif, writing /data/gdcsdata/HawaiiMapping/ProjectFiles/Rachel/bfgn_output_buildings/model_runs/combo_2/applied_model_HBTest\n"
     ]
    },
    {
     "name": "stderr",
     "output_type": "stream",
     "text": [
      "100%|███████████████████████████████████████████| 31/31 [00:07<00:00,  4.00it/s]\n"
     ]
    },
    {
     "name": "stdout",
     "output_type": "stream",
     "text": [
      "/data/gdcsdata/HawaiiMapping/ProjectFiles/Rachel/bfgn_output_buildings/model_runs/combo_2/applied_model_HBTest.tif\n",
      "Working on /data/gdcsdata/HawaiiMapping/ProjectFiles/Rachel/labeled_region_features/tile031_2500_11250_hires_surface.tif, writing /data/gdcsdata/HawaiiMapping/ProjectFiles/Rachel/bfgn_output_buildings/model_runs/combo_2/applied_model_HOVE2\n"
     ]
    },
    {
     "name": "stderr",
     "output_type": "stream",
     "text": [
      "100%|███████████████████████████████████████████| 20/20 [00:05<00:00,  3.35it/s]\n"
     ]
    },
    {
     "name": "stdout",
     "output_type": "stream",
     "text": [
      "/data/gdcsdata/HawaiiMapping/ProjectFiles/Rachel/bfgn_output_buildings/model_runs/combo_2/applied_model_HOVE2.tif\n",
      "Working on /data/gdcsdata/HawaiiMapping/ProjectFiles/Rachel/labeled_region_features/tile030_9375_5625_hires_surface.tif, writing /data/gdcsdata/HawaiiMapping/ProjectFiles/Rachel/bfgn_output_buildings/model_runs/combo_2/applied_model_MIL2\n"
     ]
    },
    {
     "name": "stderr",
     "output_type": "stream",
     "text": [
      "100%|███████████████████████████████████████████| 20/20 [00:05<00:00,  3.38it/s]\n"
     ]
    },
    {
     "name": "stdout",
     "output_type": "stream",
     "text": [
      "/data/gdcsdata/HawaiiMapping/ProjectFiles/Rachel/bfgn_output_buildings/model_runs/combo_2/applied_model_MIL2.tif\n",
      "Working on /data/gdcsdata/HawaiiMapping/ProjectFiles/Rachel/labeled_region_features/tile024_10000_2500_hires_surface.tif, writing /data/gdcsdata/HawaiiMapping/ProjectFiles/Rachel/bfgn_output_buildings/model_runs/combo_2/applied_model_CC2\n"
     ]
    },
    {
     "name": "stderr",
     "output_type": "stream",
     "text": [
      "100%|███████████████████████████████████████████| 20/20 [00:08<00:00,  2.44it/s]\n"
     ]
    },
    {
     "name": "stdout",
     "output_type": "stream",
     "text": [
      "/data/gdcsdata/HawaiiMapping/ProjectFiles/Rachel/bfgn_output_buildings/model_runs/combo_2/applied_model_CC2.tif\n",
      "Working on /data/gdcsdata/HawaiiMapping/ProjectFiles/Rachel/labeled_region_features/SKona_TestA_hires_surface.tif, writing /data/gdcsdata/HawaiiMapping/ProjectFiles/Rachel/bfgn_output_buildings/model_runs/combo_2/applied_model_SKona_A\n"
     ]
    },
    {
     "name": "stderr",
     "output_type": "stream",
     "text": [
      "100%|███████████████████████████████████████████| 10/10 [00:07<00:00,  1.39it/s]\n"
     ]
    },
    {
     "name": "stdout",
     "output_type": "stream",
     "text": [
      "/data/gdcsdata/HawaiiMapping/ProjectFiles/Rachel/bfgn_output_buildings/model_runs/combo_2/applied_model_SKona_A.tif\n"
     ]
    }
   ],
   "source": [
    "\"\"\"\n",
    "The test regions\n",
    "\"\"\"\n",
    "\n",
    "model_paths = sorted(glob.glob(model_runs.out_path+'combo_*'))\n",
    "for model_dir, combo in zip(model_paths, parameter_combos):\n",
    "    config_file = f'{model_dir}/config.yaml'\n",
    "    for idx, test_data in enumerate(test_sets.keys()):\n",
    "        for kind in data_types:\n",
    "            if kind in combo[1][idx][0].split('/')[-1]:\n",
    "                replace_with = kind\n",
    "        application_data = f'{feature_path}{test_sets[test_data]}_{replace_with}.tif'\n",
    "        outfile = f'{model_dir}/applied_model_{test_data}'\n",
    "        model_runs.apply_model(config_file, application_data, outfile)\n",
    "    "
   ]
  },
  {
   "cell_type": "code",
   "execution_count": null,
   "id": "43265936-6bcc-4682-9d35-9dfaf4dc3f6a",
   "metadata": {},
   "outputs": [],
   "source": [
    "\"\"\"\n",
    "The entire tiles (mosaics??)\n",
    "\"\"\""
   ]
  }
 ],
 "metadata": {
  "kernelspec": {
   "display_name": "bfgn-gpu",
   "language": "python",
   "name": "bfgn-gpu"
  },
  "language_info": {
   "codemirror_mode": {
    "name": "ipython",
    "version": 3
   },
   "file_extension": ".py",
   "mimetype": "text/x-python",
   "name": "python",
   "nbconvert_exporter": "python",
   "pygments_lexer": "ipython3",
   "version": "3.7.13"
  }
 },
 "nbformat": 4,
 "nbformat_minor": 5
}
